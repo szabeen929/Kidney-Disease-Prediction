{
 "cells": [
  {
   "cell_type": "code",
   "execution_count": 1,
   "metadata": {},
   "outputs": [],
   "source": [
    "import pandas as pd\n",
    "import numpy as np\n",
    "import sklearn\n",
    "import scipy\n",
    "import matplotlib.pyplot as plt\n",
    "import seaborn as sns\n",
    "from sklearn.metrics import classification_report, accuracy_score\n",
    "from sklearn.ensemble import IsolationForest\n",
    "from sklearn.neighbors import LocalOutlierFactor\n",
    "from sklearn.svm import OneClassSVM\n",
    "from pylab import rcParams\n",
    "rcParams['figure.figsize'] = 14,8\n",
    "RANDOM_SEED = 42\n",
    "LABELS = ['nodisease', 'kdisease']\n",
    "\n",
    "brfssdata = pd.read_csv('C:/Users/sarwa/OneDrive/Documents/SPU/New folder/BRFSS_kidney2018_short.csv')"
   ]
  },
  {
   "cell_type": "code",
   "execution_count": 2,
   "metadata": {
    "scrolled": true
   },
   "outputs": [
    {
     "name": "stdout",
     "output_type": "stream",
     "text": [
      "<class 'pandas.core.frame.DataFrame'>\n",
      "RangeIndex: 437500 entries, 0 to 437499\n",
      "Data columns (total 14 columns):\n",
      " #   Column    Non-Null Count   Dtype  \n",
      "---  ------    --------------   -----  \n",
      " 0   STATE     437500 non-null  float64\n",
      " 1   EXERANY2  437500 non-null  int64  \n",
      " 2   SLEPTIM1  437500 non-null  int64  \n",
      " 3   ADDEPEV2  437500 non-null  int64  \n",
      " 4   SEX1      437500 non-null  int64  \n",
      " 5   EDUCA     437500 non-null  int64  \n",
      " 6   EMPLOY1   437500 non-null  int64  \n",
      " 7   SMOKE100  437500 non-null  int64  \n",
      " 8   SMOKDAY2  437500 non-null  int64  \n",
      " 9   AVEDRNK2  437500 non-null  int64  \n",
      " 10  RACEGR3   437500 non-null  int64  \n",
      " 11  BMI5      437500 non-null  int64  \n",
      " 12  _BMI5     437500 non-null  int64  \n",
      " 13  CHCKDNY1  437500 non-null  int64  \n",
      "dtypes: float64(1), int64(13)\n",
      "memory usage: 46.7 MB\n"
     ]
    }
   ],
   "source": [
    "brfssdata.isnull().sum()\n",
    "brfssdata.info()"
   ]
  },
  {
   "cell_type": "code",
   "execution_count": 3,
   "metadata": {},
   "outputs": [],
   "source": [
    "\n",
    "count_class_0, count_class_1, count_class_2, count_class_7, count_class_9 = brfssdata.CHCKDNY1.value_counts()\n",
    "\n",
    "kdisease = brfssdata[brfssdata['CHCKDNY1']==1]\n",
    "nodisease = brfssdata[brfssdata['CHCKDNY1']==2]\n",
    "\n",
    "\n"
   ]
  },
  {
   "cell_type": "code",
   "execution_count": 4,
   "metadata": {},
   "outputs": [],
   "source": [
    "kdisease = brfssdata[brfssdata['CHCKDNY1']==1]\n",
    "nodisease = brfssdata[brfssdata['CHCKDNY1']==2]\n",
    "nodisease_under = nodisease.sample(16000)"
   ]
  },
  {
   "cell_type": "code",
   "execution_count": 5,
   "metadata": {},
   "outputs": [
    {
     "data": {
      "text/plain": [
       "(419167, 14)"
      ]
     },
     "execution_count": 5,
     "metadata": {},
     "output_type": "execute_result"
    }
   ],
   "source": [
    "nodisease.shape"
   ]
  },
  {
   "cell_type": "code",
   "execution_count": 6,
   "metadata": {},
   "outputs": [
    {
     "data": {
      "text/plain": [
       "1    16647\n",
       "2    16000\n",
       "Name: CHCKDNY1, dtype: int64"
      ]
     },
     "execution_count": 6,
     "metadata": {},
     "output_type": "execute_result"
    }
   ],
   "source": [
    "df_test_under = pd.concat([nodisease_under, kdisease], axis=0)\n",
    "df_test_under.CHCKDNY1.value_counts()"
   ]
  },
  {
   "cell_type": "code",
   "execution_count": 7,
   "metadata": {},
   "outputs": [
    {
     "name": "stdout",
     "output_type": "stream",
     "text": [
      "<class 'pandas.core.frame.DataFrame'>\n",
      "Int64Index: 32647 entries, 253414 to 437424\n",
      "Data columns (total 14 columns):\n",
      " #   Column    Non-Null Count  Dtype  \n",
      "---  ------    --------------  -----  \n",
      " 0   STATE     32647 non-null  float64\n",
      " 1   EXERANY2  32647 non-null  int64  \n",
      " 2   SLEPTIM1  32647 non-null  int64  \n",
      " 3   ADDEPEV2  32647 non-null  int64  \n",
      " 4   SEX1      32647 non-null  int64  \n",
      " 5   EDUCA     32647 non-null  int64  \n",
      " 6   EMPLOY1   32647 non-null  int64  \n",
      " 7   SMOKE100  32647 non-null  int64  \n",
      " 8   SMOKDAY2  32647 non-null  int64  \n",
      " 9   AVEDRNK2  32647 non-null  int64  \n",
      " 10  RACEGR3   32647 non-null  int64  \n",
      " 11  BMI5      32647 non-null  int64  \n",
      " 12  _BMI5     32647 non-null  int64  \n",
      " 13  CHCKDNY1  32647 non-null  int64  \n",
      "dtypes: float64(1), int64(13)\n",
      "memory usage: 3.7 MB\n"
     ]
    }
   ],
   "source": [
    "df_test_under.info()"
   ]
  },
  {
   "cell_type": "code",
   "execution_count": 8,
   "metadata": {},
   "outputs": [],
   "source": [
    "df_test_under['CHCKDNY1'] = df_test_under['CHCKDNY1'].astype('category')\n",
    "df_test_under['RACEGR3'] = df_test_under['RACEGR3'].astype('category')"
   ]
  },
  {
   "cell_type": "code",
   "execution_count": 9,
   "metadata": {},
   "outputs": [
    {
     "name": "stdout",
     "output_type": "stream",
     "text": [
      "<class 'pandas.core.frame.DataFrame'>\n",
      "Int64Index: 32647 entries, 253414 to 437424\n",
      "Data columns (total 14 columns):\n",
      " #   Column    Non-Null Count  Dtype   \n",
      "---  ------    --------------  -----   \n",
      " 0   STATE     32647 non-null  float64 \n",
      " 1   EXERANY2  32647 non-null  int64   \n",
      " 2   SLEPTIM1  32647 non-null  int64   \n",
      " 3   ADDEPEV2  32647 non-null  int64   \n",
      " 4   SEX1      32647 non-null  int64   \n",
      " 5   EDUCA     32647 non-null  int64   \n",
      " 6   EMPLOY1   32647 non-null  int64   \n",
      " 7   SMOKE100  32647 non-null  int64   \n",
      " 8   SMOKDAY2  32647 non-null  int64   \n",
      " 9   AVEDRNK2  32647 non-null  int64   \n",
      " 10  RACEGR3   32647 non-null  category\n",
      " 11  BMI5      32647 non-null  int64   \n",
      " 12  _BMI5     32647 non-null  int64   \n",
      " 13  CHCKDNY1  32647 non-null  category\n",
      "dtypes: category(2), float64(1), int64(11)\n",
      "memory usage: 3.3 MB\n"
     ]
    }
   ],
   "source": [
    "df_test_under.info()"
   ]
  },
  {
   "cell_type": "code",
   "execution_count": 17,
   "metadata": {},
   "outputs": [],
   "source": [
    "\n",
    "#convert to string and decode levels\n",
    "df_test_under['strkidney'] = [\"kdisease\" if i==1 else \"nodisease\" for i in df_test_under.CHCKDNY1]\n",
    "d = {1: 'white', 2: 'black', 3:'American Indian', 4:'Asian', 5:'Native Hawaiian', 9:'Other race'}\n",
    "df_test_under['strrace']=[d.get(x, 'Multiracial') for x in df_test_under.RACEGR3]\n",
    "d1 = {1: 'underweight', 2: 'Normal weight', 3:'Overweight'}\n",
    "df_test_under['strbmi']=[d1.get(x, 'Obese') for x in df_test_under.BMI5]\n",
    "df_test_under['strsex'] = [\"male\" if i==1 else \"female\" for i in df_test_under.SEX1]\n",
    "d2 = {1: 'Never attend school', 2: 'elementary', 3: 'Some high school', 4: 'High school graduate', 5: 'Some college'}\n",
    "df_test_under['stredu']=[d2.get(x, 'College graduate') for x in df_test_under.EDUCA]\n",
    "d3={1:'Alabama', 2:'Alaska', 4:'Arizona', 5:'Arkansas', 6:'California', 8:'Colorado', 9:'Connecticut', 10:'Delaware', 11:'District of Columbia', 12:'Florida', 13:'Georgia', 15:'Hawai', 16:'Idaho', 17:'Illinois', 18:'Indiana', 19:'Iowa', 20:'Kansas', 21:'Kentucky', 22:'Louisiana', 23:'Maine',\n",
    "24:'Maryland', 25:'Massachusetts', 26:'Michigan', 27:'Minnesota',28:'Mississippi', 29:'Missouri', 30:'Montana', 31:'Nebraska', 32:'Nevada',\n",
    "   33:'New Hampshire', 34:'New Jersey', 35:'New Mexico', 36:'New York', 37:'North Carolina', 38:'North Dakota', 39:'Ohio', 40:'Oklahoma', 41:'Oregon', 42:'Pennsylvania', 44:'Rhode Island', 45:'South Carolina', 46:'South Dakota',\n",
    "   47:'Tennessee', 48:'Texas', 49:'Utah', 50:'Vermont', 51:'Virginia', 53:'Washington', 54:'West Virginia', 55:'Wisconsin', 56:'Wyoming', 66:'Guam', 72:'Puerto Rico'}\n",
    "df_test_under['EXERANY2'] = [\"Physical Activity/Exercise\" if i==1 else \"No Physical Activity/Exercise\" for i in df_test_under.EXERANY2]"
   ]
  },
  {
   "cell_type": "code",
   "execution_count": 11,
   "metadata": {},
   "outputs": [
    {
     "data": {
      "text/plain": [
       "1    16647\n",
       "2    16000\n",
       "Name: CHCKDNY1, dtype: int64"
      ]
     },
     "execution_count": 11,
     "metadata": {},
     "output_type": "execute_result"
    }
   ],
   "source": [
    "\n",
    "\n",
    "df_test_under.CHCKDNY1.value_counts()"
   ]
  },
  {
   "cell_type": "code",
   "execution_count": null,
   "metadata": {},
   "outputs": [],
   "source": [
    "\n"
   ]
  },
  {
   "cell_type": "code",
   "execution_count": 20,
   "metadata": {},
   "outputs": [
    {
     "name": "stdout",
     "output_type": "stream",
     "text": [
      "<class 'pandas.core.frame.DataFrame'>\n",
      "Int64Index: 32647 entries, 253414 to 437424\n",
      "Data columns (total 19 columns):\n",
      " #   Column     Non-Null Count  Dtype   \n",
      "---  ------     --------------  -----   \n",
      " 0   STATE      32647 non-null  float64 \n",
      " 1   EXERANY2   32647 non-null  object  \n",
      " 2   SLEPTIM1   32647 non-null  int64   \n",
      " 3   ADDEPEV2   32647 non-null  int64   \n",
      " 4   SEX1       32647 non-null  int64   \n",
      " 5   EDUCA      32647 non-null  int64   \n",
      " 6   EMPLOY1    32647 non-null  int64   \n",
      " 7   SMOKE100   32647 non-null  int64   \n",
      " 8   SMOKDAY2   32647 non-null  int64   \n",
      " 9   AVEDRNK2   32647 non-null  int64   \n",
      " 10  RACEGR3    32647 non-null  category\n",
      " 11  BMI5       32647 non-null  int64   \n",
      " 12  _BMI5      32647 non-null  int64   \n",
      " 13  CHCKDNY1   32647 non-null  category\n",
      " 14  strkidney  32647 non-null  category\n",
      " 15  strrace    32647 non-null  category\n",
      " 16  strbmi     32647 non-null  category\n",
      " 17  strsex     32647 non-null  category\n",
      " 18  stredu     32647 non-null  category\n",
      "dtypes: category(7), float64(1), int64(10), object(1)\n",
      "memory usage: 3.5+ MB\n"
     ]
    }
   ],
   "source": [
    "df_test_under.info()\n",
    "df_test_under['strrace'] = df_test_under['strrace'].astype('category')\n",
    "df_test_under['strkidney'] = df_test_under['strkidney'].astype('category')\n",
    "df_test_under['strbmi'] = df_test_under['strbmi'].astype('category')\n",
    "df_test_under['strsex'] = df_test_under['strsex'].astype('category')\n",
    "df_test_under['stredu'] = df_test_under['stredu'].astype('category')\n",
    "df_test_under['EXERANY2'] = df_test_under['EXERANY2'].astype('category')"
   ]
  },
  {
   "cell_type": "code",
   "execution_count": 21,
   "metadata": {},
   "outputs": [
    {
     "name": "stdout",
     "output_type": "stream",
     "text": [
      "<class 'pandas.core.frame.DataFrame'>\n",
      "Int64Index: 32647 entries, 253414 to 437424\n",
      "Data columns (total 19 columns):\n",
      " #   Column     Non-Null Count  Dtype   \n",
      "---  ------     --------------  -----   \n",
      " 0   STATE      32647 non-null  float64 \n",
      " 1   EXERANY2   32647 non-null  category\n",
      " 2   SLEPTIM1   32647 non-null  int64   \n",
      " 3   ADDEPEV2   32647 non-null  int64   \n",
      " 4   SEX1       32647 non-null  int64   \n",
      " 5   EDUCA      32647 non-null  int64   \n",
      " 6   EMPLOY1    32647 non-null  int64   \n",
      " 7   SMOKE100   32647 non-null  int64   \n",
      " 8   SMOKDAY2   32647 non-null  int64   \n",
      " 9   AVEDRNK2   32647 non-null  int64   \n",
      " 10  RACEGR3    32647 non-null  category\n",
      " 11  BMI5       32647 non-null  int64   \n",
      " 12  _BMI5      32647 non-null  int64   \n",
      " 13  CHCKDNY1   32647 non-null  category\n",
      " 14  strkidney  32647 non-null  category\n",
      " 15  strrace    32647 non-null  category\n",
      " 16  strbmi     32647 non-null  category\n",
      " 17  strsex     32647 non-null  category\n",
      " 18  stredu     32647 non-null  category\n",
      "dtypes: category(8), float64(1), int64(10)\n",
      "memory usage: 3.2 MB\n"
     ]
    }
   ],
   "source": [
    "df_test_under.info()"
   ]
  },
  {
   "cell_type": "code",
   "execution_count": 22,
   "metadata": {},
   "outputs": [
    {
     "name": "stdout",
     "output_type": "stream",
     "text": [
      "Requirement already satisfied: plotnine in c:\\users\\sarwa\\anaconda3\\lib\\site-packages (0.8.0)\n",
      "Requirement already satisfied: pandas>=1.1.0 in c:\\users\\sarwa\\anaconda3\\lib\\site-packages (from plotnine) (1.1.3)\n",
      "Requirement already satisfied: patsy>=0.5.1 in c:\\users\\sarwa\\anaconda3\\lib\\site-packages (from plotnine) (0.5.1)\n",
      "Requirement already satisfied: numpy>=1.19.0 in c:\\users\\sarwa\\anaconda3\\lib\\site-packages (from plotnine) (1.19.2)\n",
      "Requirement already satisfied: matplotlib>=3.1.1 in c:\\users\\sarwa\\anaconda3\\lib\\site-packages (from plotnine) (3.3.2)\n",
      "Requirement already satisfied: statsmodels>=0.12.1 in c:\\users\\sarwa\\anaconda3\\lib\\site-packages (from plotnine) (0.12.2)\n",
      "Requirement already satisfied: mizani>=0.7.3 in c:\\users\\sarwa\\anaconda3\\lib\\site-packages (from plotnine) (0.7.3)\n",
      "Requirement already satisfied: scipy>=1.5.0 in c:\\users\\sarwa\\anaconda3\\lib\\site-packages (from plotnine) (1.5.2)\n",
      "Requirement already satisfied: descartes>=1.1.0 in c:\\users\\sarwa\\anaconda3\\lib\\site-packages (from plotnine) (1.1.0)\n",
      "Requirement already satisfied: pytz>=2017.2 in c:\\users\\sarwa\\anaconda3\\lib\\site-packages (from pandas>=1.1.0->plotnine) (2020.1)\n",
      "Requirement already satisfied: python-dateutil>=2.7.3 in c:\\users\\sarwa\\anaconda3\\lib\\site-packages (from pandas>=1.1.0->plotnine) (2.8.1)\n",
      "Requirement already satisfied: six in c:\\users\\sarwa\\anaconda3\\lib\\site-packages (from patsy>=0.5.1->plotnine) (1.15.0)\n",
      "Requirement already satisfied: certifi>=2020.06.20 in c:\\users\\sarwa\\anaconda3\\lib\\site-packages (from matplotlib>=3.1.1->plotnine) (2020.6.20)\n",
      "Requirement already satisfied: pillow>=6.2.0 in c:\\users\\sarwa\\anaconda3\\lib\\site-packages (from matplotlib>=3.1.1->plotnine) (8.0.1)\n",
      "Requirement already satisfied: kiwisolver>=1.0.1 in c:\\users\\sarwa\\anaconda3\\lib\\site-packages (from matplotlib>=3.1.1->plotnine) (1.3.0)\n",
      "Requirement already satisfied: cycler>=0.10 in c:\\users\\sarwa\\anaconda3\\lib\\site-packages (from matplotlib>=3.1.1->plotnine) (0.10.0)\n",
      "Requirement already satisfied: pyparsing!=2.0.4,!=2.1.2,!=2.1.6,>=2.0.3 in c:\\users\\sarwa\\anaconda3\\lib\\site-packages (from matplotlib>=3.1.1->plotnine) (2.4.7)\n",
      "Requirement already satisfied: palettable in c:\\users\\sarwa\\anaconda3\\lib\\site-packages (from mizani>=0.7.3->plotnine) (3.3.0)\n",
      "Note: you may need to restart the kernel to use updated packages.\n"
     ]
    }
   ],
   "source": [
    "pip install plotnine"
   ]
  },
  {
   "cell_type": "code",
   "execution_count": 23,
   "metadata": {},
   "outputs": [
    {
     "name": "stdout",
     "output_type": "stream",
     "text": [
      "Requirement already satisfied: ggplot in c:\\users\\sarwa\\anaconda3\\lib\\site-packages (0.11.5)\n",
      "Requirement already satisfied: six in c:\\users\\sarwa\\anaconda3\\lib\\site-packages (from ggplot) (1.15.0)\n",
      "Requirement already satisfied: brewer2mpl in c:\\users\\sarwa\\anaconda3\\lib\\site-packages (from ggplot) (1.4.1)\n",
      "Requirement already satisfied: pandas in c:\\users\\sarwa\\anaconda3\\lib\\site-packages (from ggplot) (1.1.3)\n",
      "Requirement already satisfied: statsmodels in c:\\users\\sarwa\\anaconda3\\lib\\site-packages (from ggplot) (0.12.2)\n",
      "Requirement already satisfied: matplotlib in c:\\users\\sarwa\\anaconda3\\lib\\site-packages (from ggplot) (3.3.2)\n",
      "Requirement already satisfied: patsy>=0.4 in c:\\users\\sarwa\\anaconda3\\lib\\site-packages (from ggplot) (0.5.1)\n",
      "Requirement already satisfied: cycler in c:\\users\\sarwa\\anaconda3\\lib\\site-packages (from ggplot) (0.10.0)\n",
      "Requirement already satisfied: numpy in c:\\users\\sarwa\\anaconda3\\lib\\site-packages (from ggplot) (1.19.2)\n",
      "Requirement already satisfied: scipy in c:\\users\\sarwa\\anaconda3\\lib\\site-packages (from ggplot) (1.5.2)\n",
      "Requirement already satisfied: pytz>=2017.2 in c:\\users\\sarwa\\anaconda3\\lib\\site-packages (from pandas->ggplot) (2020.1)\n",
      "Requirement already satisfied: python-dateutil>=2.7.3 in c:\\users\\sarwa\\anaconda3\\lib\\site-packages (from pandas->ggplot) (2.8.1)\n",
      "Requirement already satisfied: pyparsing!=2.0.4,!=2.1.2,!=2.1.6,>=2.0.3 in c:\\users\\sarwa\\anaconda3\\lib\\site-packages (from matplotlib->ggplot) (2.4.7)\n",
      "Requirement already satisfied: kiwisolver>=1.0.1 in c:\\users\\sarwa\\anaconda3\\lib\\site-packages (from matplotlib->ggplot) (1.3.0)\n",
      "Requirement already satisfied: certifi>=2020.06.20 in c:\\users\\sarwa\\anaconda3\\lib\\site-packages (from matplotlib->ggplot) (2020.6.20)\n",
      "Requirement already satisfied: pillow>=6.2.0 in c:\\users\\sarwa\\anaconda3\\lib\\site-packages (from matplotlib->ggplot) (8.0.1)\n",
      "Note: you may need to restart the kernel to use updated packages.\n"
     ]
    }
   ],
   "source": [
    "\n",
    "pip install ggplot\n"
   ]
  },
  {
   "cell_type": "code",
   "execution_count": 24,
   "metadata": {},
   "outputs": [
    {
     "data": {
      "image/png": "[encoded data removed]",
      "text/plain": [
       "<Figure size 1008x576 with 1 Axes>"
      ]
     },
     "metadata": {
      "needs_background": "light"
     },
     "output_type": "display_data"
    }
   ],
   "source": [
    "df_test_under.groupby(['strrace', 'strkidney'])['strrace'].count().unstack().plot.bar(stacked=True)\n",
    "plt.show()"
   ]
  },
  {
   "cell_type": "code",
   "execution_count": 20,
   "metadata": {},
   "outputs": [
    {
     "data": {
      "image/png": "[encoded data removed]",
      "text/plain": [
       "<Figure size 1008x576 with 1 Axes>"
      ]
     },
     "metadata": {
      "needs_background": "light"
     },
     "output_type": "display_data"
    }
   ],
   "source": [
    "plt.rcParams.update({'font.size': 20})\n",
    "df_test_under.groupby(['strbmi', 'strkidney'])['strbmi'].count().unstack().plot.bar(stacked=True)\n",
    "plt.show()"
   ]
  },
  {
   "cell_type": "code",
   "execution_count": 28,
   "metadata": {},
   "outputs": [
    {
     "data": {
      "image/png": "[encoded data removed]",
      "text/plain": [
       "<Figure size 1008x576 with 1 Axes>"
      ]
     },
     "metadata": {
      "needs_background": "light"
     },
     "output_type": "display_data"
    }
   ],
   "source": [
    "df_test_under.groupby(['EXERANY2', 'strkidney'])['EXERANY2'].count().unstack().plot.bar(stacked=True)\n",
    "plt.xticks(rotation=25)\n",
    "plt.show()"
   ]
  },
  {
   "cell_type": "code",
   "execution_count": 21,
   "metadata": {},
   "outputs": [
    {
     "data": {
      "image/png": "[encoded data removed]",
      "text/plain": [
       "<Figure size 1008x576 with 1 Axes>"
      ]
     },
     "metadata": {
      "needs_background": "light"
     },
     "output_type": "display_data"
    }
   ],
   "source": [
    "df_test_under.groupby(['strsex', 'strkidney'])['strsex'].count().unstack().plot.bar(stacked=True)\n",
    "plt.show()\n"
   ]
  },
  {
   "cell_type": "code",
   "execution_count": 22,
   "metadata": {},
   "outputs": [
    {
     "data": {
      "image/png": "[encoded data removed]",
      "text/plain": [
       "<Figure size 1008x576 with 1 Axes>"
      ]
     },
     "metadata": {
      "needs_background": "light"
     },
     "output_type": "display_data"
    }
   ],
   "source": [
    "df_test_under.groupby(['stredu', 'strkidney'])['stredu'].count().unstack().plot.bar(stacked=True)\n",
    "plt.show()"
   ]
  },
  {
   "cell_type": "code",
   "execution_count": 23,
   "metadata": {
    "scrolled": true
   },
   "outputs": [
    {
     "data": {
      "text/plain": [
       "Text(0.5, 1.0, 'Gender Distribution for No Disease')"
      ]
     },
     "execution_count": 23,
     "metadata": {},
     "output_type": "execute_result"
    },
    {
     "data": {
      "image/png": "[encoded data removed]",
      "text/plain": [
       "<Figure size 1008x576 with 2 Axes>"
      ]
     },
     "metadata": {},
     "output_type": "display_data"
    }
   ],
   "source": [
    "plt.rcParams.update({'font.size': 20})\n",
    "plt.subplot(1,2,1);df_test_under.strsex[df_test_under.CHCKDNY1==1].value_counts().plot(kind='pie', colors=[\"magenta\", \"green\"], autopct='%1.1f%%').set_title(\"Gender Distribution for Diseased\")\n",
    "plt.subplot(1,2,2);df_test_under.strsex[df_test_under.CHCKDNY1==2].value_counts().plot(kind='pie', colors=[\"magenta\", \"green\"], autopct='%1.1f%%').set_title(\"Gender Distribution for No Disease\")"
   ]
  },
  {
   "cell_type": "code",
   "execution_count": 24,
   "metadata": {},
   "outputs": [
    {
     "name": "stdout",
     "output_type": "stream",
     "text": [
      "<class 'pandas.core.frame.DataFrame'>\n",
      "Int64Index: 32647 entries, 32252 to 437424\n",
      "Data columns (total 18 columns):\n",
      " #   Column     Non-Null Count  Dtype   \n",
      "---  ------     --------------  -----   \n",
      " 0   EXERANY2   32647 non-null  int64   \n",
      " 1   SLEPTIM1   32647 non-null  int64   \n",
      " 2   ADDEPEV2   32647 non-null  int64   \n",
      " 3   SEX1       32647 non-null  int64   \n",
      " 4   EDUCA      32647 non-null  int64   \n",
      " 5   EMPLOY1    32647 non-null  int64   \n",
      " 6   SMOKE100   32647 non-null  int64   \n",
      " 7   SMOKDAY2   32647 non-null  int64   \n",
      " 8   AVEDRNK2   32647 non-null  int64   \n",
      " 9   RACEGR3    32647 non-null  category\n",
      " 10  BMI5       32647 non-null  int64   \n",
      " 11  _BMI5      32647 non-null  int64   \n",
      " 12  CHCKDNY1   32647 non-null  category\n",
      " 13  strkidney  32647 non-null  category\n",
      " 14  strrace    32647 non-null  category\n",
      " 15  strbmi     32647 non-null  category\n",
      " 16  strsex     32647 non-null  category\n",
      " 17  stredu     32647 non-null  category\n",
      "dtypes: category(7), int64(11)\n",
      "memory usage: 3.2 MB\n"
     ]
    }
   ],
   "source": [
    "df_test_under.info()"
   ]
  },
  {
   "cell_type": "code",
   "execution_count": 25,
   "metadata": {},
   "outputs": [
    {
     "name": "stdout",
     "output_type": "stream",
     "text": [
      "<class 'pandas.core.frame.DataFrame'>\n",
      "Int64Index: 32647 entries, 32252 to 437424\n",
      "Data columns (total 13 columns):\n",
      " #   Column    Non-Null Count  Dtype   \n",
      "---  ------    --------------  -----   \n",
      " 0   EXERANY2  32647 non-null  int64   \n",
      " 1   SLEPTIM1  32647 non-null  int64   \n",
      " 2   ADDEPEV2  32647 non-null  int64   \n",
      " 3   SEX1      32647 non-null  int64   \n",
      " 4   EDUCA     32647 non-null  int64   \n",
      " 5   EMPLOY1   32647 non-null  int64   \n",
      " 6   SMOKE100  32647 non-null  int64   \n",
      " 7   SMOKDAY2  32647 non-null  int64   \n",
      " 8   AVEDRNK2  32647 non-null  int64   \n",
      " 9   RACEGR3   32647 non-null  category\n",
      " 10  BMI5      32647 non-null  int64   \n",
      " 11  _BMI5     32647 non-null  int64   \n",
      " 12  CHCKDNY1  32647 non-null  category\n",
      "dtypes: category(2), int64(11)\n",
      "memory usage: 3.1 MB\n"
     ]
    }
   ],
   "source": [
    "df_nostring = df_test_under.iloc[:,0:13]\n",
    "df_nostring.info()\n",
    "\n"
   ]
  },
  {
   "cell_type": "code",
   "execution_count": 26,
   "metadata": {},
   "outputs": [],
   "source": [
    "X = df_nostring.drop('CHCKDNY1', axis=1)\n",
    "Y = df_nostring['CHCKDNY1']"
   ]
  },
  {
   "cell_type": "code",
   "execution_count": 27,
   "metadata": {},
   "outputs": [],
   "source": [
    "names = list(df_nostring.columns.drop('CHCKDNY1'))"
   ]
  },
  {
   "cell_type": "code",
   "execution_count": 28,
   "metadata": {},
   "outputs": [
    {
     "data": {
      "text/html": [
       "<div>\n",
       "<style scoped>\n",
       "    .dataframe tbody tr th:only-of-type {\n",
       "        vertical-align: middle;\n",
       "    }\n",
       "\n",
       "    .dataframe tbody tr th {\n",
       "        vertical-align: top;\n",
       "    }\n",
       "\n",
       "    .dataframe thead th {\n",
       "        text-align: right;\n",
       "    }\n",
       "</style>\n",
       "<table border=\"1\" class=\"dataframe\">\n",
       "  <thead>\n",
       "    <tr style=\"text-align: right;\">\n",
       "      <th></th>\n",
       "      <th>EXERANY2</th>\n",
       "      <th>SLEPTIM1</th>\n",
       "      <th>ADDEPEV2</th>\n",
       "      <th>SEX1</th>\n",
       "      <th>EDUCA</th>\n",
       "      <th>EMPLOY1</th>\n",
       "      <th>SMOKE100</th>\n",
       "      <th>SMOKDAY2</th>\n",
       "      <th>AVEDRNK2</th>\n",
       "      <th>RACEGR3</th>\n",
       "      <th>BMI5</th>\n",
       "      <th>_BMI5</th>\n",
       "    </tr>\n",
       "  </thead>\n",
       "  <tbody>\n",
       "    <tr>\n",
       "      <th>32252</th>\n",
       "      <td>1</td>\n",
       "      <td>8</td>\n",
       "      <td>1</td>\n",
       "      <td>1</td>\n",
       "      <td>4</td>\n",
       "      <td>2</td>\n",
       "      <td>2</td>\n",
       "      <td>0</td>\n",
       "      <td>0</td>\n",
       "      <td>1</td>\n",
       "      <td>4</td>\n",
       "      <td>3905</td>\n",
       "    </tr>\n",
       "    <tr>\n",
       "      <th>167411</th>\n",
       "      <td>1</td>\n",
       "      <td>8</td>\n",
       "      <td>2</td>\n",
       "      <td>1</td>\n",
       "      <td>6</td>\n",
       "      <td>7</td>\n",
       "      <td>2</td>\n",
       "      <td>0</td>\n",
       "      <td>1</td>\n",
       "      <td>1</td>\n",
       "      <td>4</td>\n",
       "      <td>5168</td>\n",
       "    </tr>\n",
       "    <tr>\n",
       "      <th>350716</th>\n",
       "      <td>1</td>\n",
       "      <td>7</td>\n",
       "      <td>2</td>\n",
       "      <td>1</td>\n",
       "      <td>5</td>\n",
       "      <td>1</td>\n",
       "      <td>2</td>\n",
       "      <td>0</td>\n",
       "      <td>0</td>\n",
       "      <td>1</td>\n",
       "      <td>0</td>\n",
       "      <td>0</td>\n",
       "    </tr>\n",
       "    <tr>\n",
       "      <th>318385</th>\n",
       "      <td>1</td>\n",
       "      <td>9</td>\n",
       "      <td>2</td>\n",
       "      <td>2</td>\n",
       "      <td>6</td>\n",
       "      <td>1</td>\n",
       "      <td>2</td>\n",
       "      <td>0</td>\n",
       "      <td>0</td>\n",
       "      <td>1</td>\n",
       "      <td>2</td>\n",
       "      <td>1949</td>\n",
       "    </tr>\n",
       "    <tr>\n",
       "      <th>259850</th>\n",
       "      <td>1</td>\n",
       "      <td>7</td>\n",
       "      <td>2</td>\n",
       "      <td>2</td>\n",
       "      <td>6</td>\n",
       "      <td>1</td>\n",
       "      <td>2</td>\n",
       "      <td>0</td>\n",
       "      <td>1</td>\n",
       "      <td>1</td>\n",
       "      <td>2</td>\n",
       "      <td>2090</td>\n",
       "    </tr>\n",
       "  </tbody>\n",
       "</table>\n",
       "</div>"
      ],
      "text/plain": [
       "        EXERANY2  SLEPTIM1  ADDEPEV2  SEX1  EDUCA  EMPLOY1  SMOKE100  \\\n",
       "32252          1         8         1     1      4        2         2   \n",
       "167411         1         8         2     1      6        7         2   \n",
       "350716         1         7         2     1      5        1         2   \n",
       "318385         1         9         2     2      6        1         2   \n",
       "259850         1         7         2     2      6        1         2   \n",
       "\n",
       "        SMOKDAY2  AVEDRNK2 RACEGR3  BMI5  _BMI5  \n",
       "32252          0         0       1     4   3905  \n",
       "167411         0         1       1     4   5168  \n",
       "350716         0         0       1     0      0  \n",
       "318385         0         0       1     2   1949  \n",
       "259850         0         1       1     2   2090  "
      ]
     },
     "execution_count": 28,
     "metadata": {},
     "output_type": "execute_result"
    }
   ],
   "source": [
    "inp_df = pd.DataFrame(X, columns=names)\n",
    "inp_df.head()"
   ]
  },
  {
   "cell_type": "code",
   "execution_count": 29,
   "metadata": {},
   "outputs": [
    {
     "name": "stdout",
     "output_type": "stream",
     "text": [
      "R Square value of EXERANY2 column is 0.86 keeping all other columns as features\n",
      "Variance Inflation Factor of EXERANY2 column is 6.97 \n",
      "\n",
      "R Square value of SLEPTIM1 column is 0.44 keeping all other columns as features\n",
      "Variance Inflation Factor of SLEPTIM1 column is 1.78 \n",
      "\n",
      "R Square value of ADDEPEV2 column is 0.89 keeping all other columns as features\n",
      "Variance Inflation Factor of ADDEPEV2 column is 8.81 \n",
      "\n",
      "R Square value of SEX1 column is 0.86 keeping all other columns as features\n",
      "Variance Inflation Factor of SEX1 column is 7.13 \n",
      "\n",
      "R Square value of EDUCA column is 0.93 keeping all other columns as features\n",
      "Variance Inflation Factor of EDUCA column is 14.05 \n",
      "\n",
      "R Square value of EMPLOY1 column is 0.75 keeping all other columns as features\n",
      "Variance Inflation Factor of EMPLOY1 column is 3.95 \n",
      "\n",
      "R Square value of SMOKE100 column is 0.88 keeping all other columns as features\n",
      "Variance Inflation Factor of SMOKE100 column is 8.39 \n",
      "\n",
      "R Square value of SMOKDAY2 column is 0.61 keeping all other columns as features\n",
      "Variance Inflation Factor of SMOKDAY2 column is 2.58 \n",
      "\n",
      "R Square value of AVEDRNK2 column is 0.04 keeping all other columns as features\n",
      "Variance Inflation Factor of AVEDRNK2 column is 1.05 \n",
      "\n",
      "R Square value of RACEGR3 column is 0.54 keeping all other columns as features\n",
      "Variance Inflation Factor of RACEGR3 column is 2.16 \n",
      "\n",
      "R Square value of BMI5 column is 0.98 keeping all other columns as features\n",
      "Variance Inflation Factor of BMI5 column is 44.24 \n",
      "\n",
      "R Square value of _BMI5 column is 0.98 keeping all other columns as features\n",
      "Variance Inflation Factor of _BMI5 column is 49.45 \n",
      "\n"
     ]
    }
   ],
   "source": [
    "import statsmodels.api as sm\n",
    "\n",
    "\n",
    "\n",
    "for i in range(0, len(names)):\n",
    "    y=inp_df.loc[:, inp_df.columns == names[i]]\n",
    "    x=inp_df.loc[:, inp_df.columns != names[i]]\n",
    "    model = sm.OLS(y,x.astype(float))\n",
    "    results = model.fit()\n",
    "    rsq = results.rsquared\n",
    "    vif=round(1/(1-rsq),2)\n",
    "    print(\n",
    "        \"R Square value of {} column is {} keeping all other columns as features\". format(\n",
    "             names[i], (round(rsq, 2))\n",
    "        )\n",
    "    )\n",
    "    print(\n",
    "        \"Variance Inflation Factor of {} column is {} \\n\".format(\n",
    "           names[i], vif)\n",
    "    )"
   ]
  },
  {
   "cell_type": "code",
   "execution_count": 30,
   "metadata": {},
   "outputs": [
    {
     "name": "stdout",
     "output_type": "stream",
     "text": [
      "<class 'pandas.core.frame.DataFrame'>\n",
      "Int64Index: 32647 entries, 32252 to 437424\n",
      "Data columns (total 18 columns):\n",
      " #   Column     Non-Null Count  Dtype   \n",
      "---  ------     --------------  -----   \n",
      " 0   EXERANY2   32647 non-null  int64   \n",
      " 1   SLEPTIM1   32647 non-null  int64   \n",
      " 2   ADDEPEV2   32647 non-null  int64   \n",
      " 3   SEX1       32647 non-null  int64   \n",
      " 4   EDUCA      32647 non-null  int64   \n",
      " 5   EMPLOY1    32647 non-null  int64   \n",
      " 6   SMOKE100   32647 non-null  int64   \n",
      " 7   SMOKDAY2   32647 non-null  int64   \n",
      " 8   AVEDRNK2   32647 non-null  int64   \n",
      " 9   RACEGR3    32647 non-null  category\n",
      " 10  BMI5       32647 non-null  int64   \n",
      " 11  _BMI5      32647 non-null  int64   \n",
      " 12  CHCKDNY1   32647 non-null  category\n",
      " 13  strkidney  32647 non-null  category\n",
      " 14  strrace    32647 non-null  category\n",
      " 15  strbmi     32647 non-null  category\n",
      " 16  strsex     32647 non-null  category\n",
      " 17  stredu     32647 non-null  category\n",
      "dtypes: category(7), int64(11)\n",
      "memory usage: 3.2 MB\n"
     ]
    }
   ],
   "source": [
    "df_test_under.info()"
   ]
  },
  {
   "cell_type": "code",
   "execution_count": 31,
   "metadata": {},
   "outputs": [],
   "source": [
    "df_test_under[\"count_kidney\"] = df_test_under.strkidney.value_counts()\n"
   ]
  },
  {
   "cell_type": "code",
   "execution_count": 32,
   "metadata": {},
   "outputs": [],
   "source": [
    "df_test_under[\"CHCKDNY1\"]=df_test_under[\"CHCKDNY1\"].astype('float')\n"
   ]
  },
  {
   "cell_type": "code",
   "execution_count": 33,
   "metadata": {},
   "outputs": [
    {
     "data": {
      "image/png": "[encoded data removed]",
      "text/plain": [
       "<Figure size 1008x576 with 1 Axes>"
      ]
     },
     "metadata": {},
     "output_type": "display_data"
    }
   ],
   "source": [
    "sns.set_style(\"darkgrid\")\n",
    "\n",
    "\n",
    "box_plot = sns.boxplot(x=\"CHCKDNY1\", y=\"_BMI5\", hue=\"CHCKDNY1\", data=df_test_under).set(xlabel=\"Kidney Disease status\", ylabel=\"BMI\")\n",
    "\n",
    "\n",
    "\n",
    "\n"
   ]
  },
  {
   "cell_type": "code",
   "execution_count": 34,
   "metadata": {},
   "outputs": [
    {
     "name": "stdout",
     "output_type": "stream",
     "text": [
      "<class 'pandas.core.frame.DataFrame'>\n",
      "Int64Index: 32647 entries, 32252 to 437424\n",
      "Data columns (total 19 columns):\n",
      " #   Column        Non-Null Count  Dtype   \n",
      "---  ------        --------------  -----   \n",
      " 0   EXERANY2      32647 non-null  int64   \n",
      " 1   SLEPTIM1      32647 non-null  int64   \n",
      " 2   ADDEPEV2      32647 non-null  int64   \n",
      " 3   SEX1          32647 non-null  int64   \n",
      " 4   EDUCA         32647 non-null  int64   \n",
      " 5   EMPLOY1       32647 non-null  int64   \n",
      " 6   SMOKE100      32647 non-null  int64   \n",
      " 7   SMOKDAY2      32647 non-null  int64   \n",
      " 8   AVEDRNK2      32647 non-null  int64   \n",
      " 9   RACEGR3       32647 non-null  category\n",
      " 10  BMI5          32647 non-null  int64   \n",
      " 11  _BMI5         32647 non-null  int64   \n",
      " 12  CHCKDNY1      32647 non-null  float64 \n",
      " 13  strkidney     32647 non-null  category\n",
      " 14  strrace       32647 non-null  category\n",
      " 15  strbmi        32647 non-null  category\n",
      " 16  strsex        32647 non-null  category\n",
      " 17  stredu        32647 non-null  category\n",
      " 18  count_kidney  0 non-null      float64 \n",
      "dtypes: category(6), float64(2), int64(11)\n",
      "memory usage: 4.9 MB\n"
     ]
    }
   ],
   "source": [
    "df_test_under.info()"
   ]
  },
  {
   "cell_type": "code",
   "execution_count": 35,
   "metadata": {},
   "outputs": [],
   "source": [
    "from sklearn.datasets import make_classification\n",
    "from matplotlib import pyplot as plt\n",
    "from sklearn.linear_model import LogisticRegression\n",
    "from sklearn.model_selection import train_test_split\n",
    "from sklearn.metrics import confusion_matrix\n",
    "import pandas as pd"
   ]
  },
  {
   "cell_type": "code",
   "execution_count": 36,
   "metadata": {},
   "outputs": [],
   "source": [
    "X = df_nostring.drop('CHCKDNY1', axis=1)\n",
    "Y = df_nostring['CHCKDNY1']"
   ]
  },
  {
   "cell_type": "code",
   "execution_count": 37,
   "metadata": {},
   "outputs": [],
   "source": [
    "#Split dataset into training and test object\n",
    "x_train, x_test, y_train, y_test=train_test_split(X, Y, random_state=1)"
   ]
  },
  {
   "cell_type": "code",
   "execution_count": 38,
   "metadata": {},
   "outputs": [
    {
     "data": {
      "text/plain": [
       "(24485, 12)"
      ]
     },
     "execution_count": 38,
     "metadata": {},
     "output_type": "execute_result"
    }
   ],
   "source": [
    "x_train.shape"
   ]
  },
  {
   "cell_type": "code",
   "execution_count": 39,
   "metadata": {},
   "outputs": [
    {
     "data": {
      "text/plain": [
       "LogisticRegression(max_iter=1200000)"
      ]
     },
     "execution_count": 39,
     "metadata": {},
     "output_type": "execute_result"
    }
   ],
   "source": [
    "#Create a Logistic Regression Object, perform Logistic Regression\n",
    "\n",
    "log_reg=LogisticRegression(max_iter=1200000)\n",
    "log_reg.fit(x_train, y_train)"
   ]
  },
  {
   "cell_type": "code",
   "execution_count": 40,
   "metadata": {},
   "outputs": [],
   "source": [
    "y_pred=log_reg.predict(x_test)"
   ]
  },
  {
   "cell_type": "code",
   "execution_count": 41,
   "metadata": {},
   "outputs": [
    {
     "name": "stdout",
     "output_type": "stream",
     "text": [
      "[[3019 1037]\n",
      " [1720 2386]]\n",
      "66.22151433472189\n"
     ]
    }
   ],
   "source": [
    "print(confusion_matrix(y_test, y_pred))\n",
    "\n",
    "print(accuracy_score(y_test, y_pred)*100)"
   ]
  },
  {
   "cell_type": "code",
   "execution_count": 42,
   "metadata": {},
   "outputs": [
    {
     "name": "stdout",
     "output_type": "stream",
     "text": [
      "              precision    recall  f1-score   support\n",
      "\n",
      "           1       0.64      0.74      0.69      4056\n",
      "           2       0.70      0.58      0.63      4106\n",
      "\n",
      "    accuracy                           0.66      8162\n",
      "   macro avg       0.67      0.66      0.66      8162\n",
      "weighted avg       0.67      0.66      0.66      8162\n",
      "\n"
     ]
    }
   ],
   "source": [
    "from sklearn.metrics import classification_report\n",
    "print(classification_report(y_test, y_pred))"
   ]
  },
  {
   "cell_type": "code",
   "execution_count": 43,
   "metadata": {},
   "outputs": [
    {
     "data": {
      "text/plain": [
       "32252     2\n",
       "167411    2\n",
       "350716    2\n",
       "318385    2\n",
       "259850    2\n",
       "Name: CHCKDNY1, dtype: category\n",
       "Categories (2, int64): [1, 2]"
      ]
     },
     "execution_count": 43,
     "metadata": {},
     "output_type": "execute_result"
    }
   ],
   "source": [
    "Y.head()"
   ]
  },
  {
   "cell_type": "code",
   "execution_count": 44,
   "metadata": {},
   "outputs": [],
   "source": [
    "X1 = X.drop(['EDUCA', 'BMI5', '_BMI5', 'SMOKDAY2', 'EMPLOY1', 'ADDEPEV2'], axis=1)"
   ]
  },
  {
   "cell_type": "code",
   "execution_count": 45,
   "metadata": {},
   "outputs": [
    {
     "data": {
      "text/html": [
       "<div>\n",
       "<style scoped>\n",
       "    .dataframe tbody tr th:only-of-type {\n",
       "        vertical-align: middle;\n",
       "    }\n",
       "\n",
       "    .dataframe tbody tr th {\n",
       "        vertical-align: top;\n",
       "    }\n",
       "\n",
       "    .dataframe thead th {\n",
       "        text-align: right;\n",
       "    }\n",
       "</style>\n",
       "<table border=\"1\" class=\"dataframe\">\n",
       "  <thead>\n",
       "    <tr style=\"text-align: right;\">\n",
       "      <th></th>\n",
       "      <th>EXERANY2</th>\n",
       "      <th>SLEPTIM1</th>\n",
       "      <th>SEX1</th>\n",
       "      <th>SMOKE100</th>\n",
       "      <th>AVEDRNK2</th>\n",
       "      <th>RACEGR3</th>\n",
       "    </tr>\n",
       "  </thead>\n",
       "  <tbody>\n",
       "    <tr>\n",
       "      <th>32252</th>\n",
       "      <td>1</td>\n",
       "      <td>8</td>\n",
       "      <td>1</td>\n",
       "      <td>2</td>\n",
       "      <td>0</td>\n",
       "      <td>1</td>\n",
       "    </tr>\n",
       "    <tr>\n",
       "      <th>167411</th>\n",
       "      <td>1</td>\n",
       "      <td>8</td>\n",
       "      <td>1</td>\n",
       "      <td>2</td>\n",
       "      <td>1</td>\n",
       "      <td>1</td>\n",
       "    </tr>\n",
       "    <tr>\n",
       "      <th>350716</th>\n",
       "      <td>1</td>\n",
       "      <td>7</td>\n",
       "      <td>1</td>\n",
       "      <td>2</td>\n",
       "      <td>0</td>\n",
       "      <td>1</td>\n",
       "    </tr>\n",
       "    <tr>\n",
       "      <th>318385</th>\n",
       "      <td>1</td>\n",
       "      <td>9</td>\n",
       "      <td>2</td>\n",
       "      <td>2</td>\n",
       "      <td>0</td>\n",
       "      <td>1</td>\n",
       "    </tr>\n",
       "    <tr>\n",
       "      <th>259850</th>\n",
       "      <td>1</td>\n",
       "      <td>7</td>\n",
       "      <td>2</td>\n",
       "      <td>2</td>\n",
       "      <td>1</td>\n",
       "      <td>1</td>\n",
       "    </tr>\n",
       "  </tbody>\n",
       "</table>\n",
       "</div>"
      ],
      "text/plain": [
       "        EXERANY2  SLEPTIM1  SEX1  SMOKE100  AVEDRNK2 RACEGR3\n",
       "32252          1         8     1         2         0       1\n",
       "167411         1         8     1         2         1       1\n",
       "350716         1         7     1         2         0       1\n",
       "318385         1         9     2         2         0       1\n",
       "259850         1         7     2         2         1       1"
      ]
     },
     "execution_count": 45,
     "metadata": {},
     "output_type": "execute_result"
    }
   ],
   "source": [
    "X1.head()"
   ]
  },
  {
   "cell_type": "code",
   "execution_count": 46,
   "metadata": {},
   "outputs": [],
   "source": [
    "x_train, x_test, y_train, y_test=train_test_split(X1, Y, random_state=1)"
   ]
  },
  {
   "cell_type": "code",
   "execution_count": 47,
   "metadata": {},
   "outputs": [
    {
     "data": {
      "text/plain": [
       "LogisticRegression(max_iter=1200000)"
      ]
     },
     "execution_count": 47,
     "metadata": {},
     "output_type": "execute_result"
    }
   ],
   "source": [
    "log_reg=LogisticRegression(max_iter=1200000)\n",
    "log_reg.fit(x_train, y_train)"
   ]
  },
  {
   "cell_type": "code",
   "execution_count": 48,
   "metadata": {},
   "outputs": [],
   "source": [
    "y_pred=log_reg.predict(x_test)"
   ]
  },
  {
   "cell_type": "code",
   "execution_count": 49,
   "metadata": {},
   "outputs": [
    {
     "name": "stdout",
     "output_type": "stream",
     "text": [
      "[[1737 2319]\n",
      " [1055 3051]]\n",
      "58.662092624356774\n"
     ]
    }
   ],
   "source": [
    "print(confusion_matrix(y_test, y_pred))\n",
    "print(accuracy_score(y_test, y_pred)*100)"
   ]
  },
  {
   "cell_type": "code",
   "execution_count": 50,
   "metadata": {},
   "outputs": [],
   "source": [
    "from sklearn import tree\n",
    "from sklearn.tree import DecisionTreeClassifier\n",
    "\n",
    "from sklearn.tree import export_graphviz\n"
   ]
  },
  {
   "cell_type": "code",
   "execution_count": 57,
   "metadata": {},
   "outputs": [],
   "source": [
    "Y =  Y.astype('float')\n",
    "\n",
    "x_train, x_test, y_train, y_test = train_test_split(X, Y, test_size=0.30, random_state=52, stratify=Y)\n",
    "\n",
    "model = tree.DecisionTreeClassifier()\n",
    "model = model.fit(x_train, y_train)\n"
   ]
  },
  {
   "cell_type": "code",
   "execution_count": 58,
   "metadata": {},
   "outputs": [
    {
     "data": {
      "text/plain": [
       "1.0    16647\n",
       "2.0    16000\n",
       "Name: CHCKDNY1, dtype: int64"
      ]
     },
     "execution_count": 58,
     "metadata": {},
     "output_type": "execute_result"
    }
   ],
   "source": [
    "Y.value_counts()"
   ]
  },
  {
   "cell_type": "code",
   "execution_count": 53,
   "metadata": {
    "scrolled": false
   },
   "outputs": [
    {
     "ename": "ValueError",
     "evalue": "Length of feature_names, 6 does not match number of features, 12",
     "output_type": "error",
     "traceback": [
      "\u001b[1;31m---------------------------------------------------------------------------\u001b[0m",
      "\u001b[1;31mValueError\u001b[0m                                Traceback (most recent call last)",
      "\u001b[1;32m<ipython-input-53-6b23bac63f22>\u001b[0m in \u001b[0;36m<module>\u001b[1;34m\u001b[0m\n\u001b[0;32m      4\u001b[0m \u001b[1;32mfrom\u001b[0m \u001b[0mIPython\u001b[0m\u001b[1;33m.\u001b[0m\u001b[0mdisplay\u001b[0m \u001b[1;32mimport\u001b[0m \u001b[0mdisplay\u001b[0m\u001b[1;33m\u001b[0m\u001b[1;33m\u001b[0m\u001b[0m\n\u001b[0;32m      5\u001b[0m \u001b[1;33m\u001b[0m\u001b[0m\n\u001b[1;32m----> 6\u001b[1;33m \u001b[0mgraph\u001b[0m \u001b[1;33m=\u001b[0m \u001b[0mSource\u001b[0m\u001b[1;33m(\u001b[0m\u001b[0mtree\u001b[0m\u001b[1;33m.\u001b[0m\u001b[0mexport_graphviz\u001b[0m\u001b[1;33m(\u001b[0m\u001b[0mmodel\u001b[0m\u001b[1;33m,\u001b[0m \u001b[0mout_file\u001b[0m\u001b[1;33m=\u001b[0m\u001b[1;32mNone\u001b[0m\u001b[1;33m,\u001b[0m \u001b[0mfeature_names\u001b[0m\u001b[1;33m=\u001b[0m\u001b[0mX1\u001b[0m\u001b[1;33m.\u001b[0m\u001b[0mcolumns\u001b[0m\u001b[1;33m,\u001b[0m \u001b[0mclass_names\u001b[0m\u001b[1;33m=\u001b[0m\u001b[1;33m[\u001b[0m\u001b[1;34m'disease'\u001b[0m\u001b[1;33m,\u001b[0m \u001b[1;34m'no disease'\u001b[0m\u001b[1;33m]\u001b[0m\u001b[1;33m,\u001b[0m \u001b[0mfilled\u001b[0m \u001b[1;33m=\u001b[0m \u001b[1;32mTrue\u001b[0m\u001b[1;33m)\u001b[0m\u001b[1;33m)\u001b[0m\u001b[1;33m\u001b[0m\u001b[1;33m\u001b[0m\u001b[0m\n\u001b[0m\u001b[0;32m      7\u001b[0m \u001b[0mdisplay\u001b[0m\u001b[1;33m(\u001b[0m\u001b[0mSVG\u001b[0m\u001b[1;33m(\u001b[0m\u001b[0mgraph\u001b[0m\u001b[1;33m.\u001b[0m\u001b[0mpipe\u001b[0m\u001b[1;33m(\u001b[0m\u001b[0mformat\u001b[0m\u001b[1;33m=\u001b[0m\u001b[1;34m'svg'\u001b[0m\u001b[1;33m)\u001b[0m\u001b[1;33m)\u001b[0m\u001b[1;33m)\u001b[0m\u001b[1;33m\u001b[0m\u001b[1;33m\u001b[0m\u001b[0m\n\u001b[0;32m      8\u001b[0m \u001b[1;33m\u001b[0m\u001b[0m\n",
      "\u001b[1;32m~\\Anaconda3\\lib\\site-packages\\sklearn\\utils\\validation.py\u001b[0m in \u001b[0;36minner_f\u001b[1;34m(*args, **kwargs)\u001b[0m\n\u001b[0;32m     70\u001b[0m                           FutureWarning)\n\u001b[0;32m     71\u001b[0m         \u001b[0mkwargs\u001b[0m\u001b[1;33m.\u001b[0m\u001b[0mupdate\u001b[0m\u001b[1;33m(\u001b[0m\u001b[1;33m{\u001b[0m\u001b[0mk\u001b[0m\u001b[1;33m:\u001b[0m \u001b[0marg\u001b[0m \u001b[1;32mfor\u001b[0m \u001b[0mk\u001b[0m\u001b[1;33m,\u001b[0m \u001b[0marg\u001b[0m \u001b[1;32min\u001b[0m \u001b[0mzip\u001b[0m\u001b[1;33m(\u001b[0m\u001b[0msig\u001b[0m\u001b[1;33m.\u001b[0m\u001b[0mparameters\u001b[0m\u001b[1;33m,\u001b[0m \u001b[0margs\u001b[0m\u001b[1;33m)\u001b[0m\u001b[1;33m}\u001b[0m\u001b[1;33m)\u001b[0m\u001b[1;33m\u001b[0m\u001b[1;33m\u001b[0m\u001b[0m\n\u001b[1;32m---> 72\u001b[1;33m         \u001b[1;32mreturn\u001b[0m \u001b[0mf\u001b[0m\u001b[1;33m(\u001b[0m\u001b[1;33m**\u001b[0m\u001b[0mkwargs\u001b[0m\u001b[1;33m)\u001b[0m\u001b[1;33m\u001b[0m\u001b[1;33m\u001b[0m\u001b[0m\n\u001b[0m\u001b[0;32m     73\u001b[0m     \u001b[1;32mreturn\u001b[0m \u001b[0minner_f\u001b[0m\u001b[1;33m\u001b[0m\u001b[1;33m\u001b[0m\u001b[0m\n\u001b[0;32m     74\u001b[0m \u001b[1;33m\u001b[0m\u001b[0m\n",
      "\u001b[1;32m~\\Anaconda3\\lib\\site-packages\\sklearn\\tree\\_export.py\u001b[0m in \u001b[0;36mexport_graphviz\u001b[1;34m(decision_tree, out_file, max_depth, feature_names, class_names, label, filled, leaves_parallel, impurity, node_ids, proportion, rotate, rounded, special_characters, precision)\u001b[0m\n\u001b[0;32m    781\u001b[0m             \u001b[0mrounded\u001b[0m\u001b[1;33m=\u001b[0m\u001b[0mrounded\u001b[0m\u001b[1;33m,\u001b[0m \u001b[0mspecial_characters\u001b[0m\u001b[1;33m=\u001b[0m\u001b[0mspecial_characters\u001b[0m\u001b[1;33m,\u001b[0m\u001b[1;33m\u001b[0m\u001b[1;33m\u001b[0m\u001b[0m\n\u001b[0;32m    782\u001b[0m             precision=precision)\n\u001b[1;32m--> 783\u001b[1;33m         \u001b[0mexporter\u001b[0m\u001b[1;33m.\u001b[0m\u001b[0mexport\u001b[0m\u001b[1;33m(\u001b[0m\u001b[0mdecision_tree\u001b[0m\u001b[1;33m)\u001b[0m\u001b[1;33m\u001b[0m\u001b[1;33m\u001b[0m\u001b[0m\n\u001b[0m\u001b[0;32m    784\u001b[0m \u001b[1;33m\u001b[0m\u001b[0m\n\u001b[0;32m    785\u001b[0m         \u001b[1;32mif\u001b[0m \u001b[0mreturn_string\u001b[0m\u001b[1;33m:\u001b[0m\u001b[1;33m\u001b[0m\u001b[1;33m\u001b[0m\u001b[0m\n",
      "\u001b[1;32m~\\Anaconda3\\lib\\site-packages\\sklearn\\tree\\_export.py\u001b[0m in \u001b[0;36mexport\u001b[1;34m(self, decision_tree)\u001b[0m\n\u001b[0;32m    411\u001b[0m         \u001b[1;32mif\u001b[0m \u001b[0mself\u001b[0m\u001b[1;33m.\u001b[0m\u001b[0mfeature_names\u001b[0m \u001b[1;32mis\u001b[0m \u001b[1;32mnot\u001b[0m \u001b[1;32mNone\u001b[0m\u001b[1;33m:\u001b[0m\u001b[1;33m\u001b[0m\u001b[1;33m\u001b[0m\u001b[0m\n\u001b[0;32m    412\u001b[0m             \u001b[1;32mif\u001b[0m \u001b[0mlen\u001b[0m\u001b[1;33m(\u001b[0m\u001b[0mself\u001b[0m\u001b[1;33m.\u001b[0m\u001b[0mfeature_names\u001b[0m\u001b[1;33m)\u001b[0m \u001b[1;33m!=\u001b[0m \u001b[0mdecision_tree\u001b[0m\u001b[1;33m.\u001b[0m\u001b[0mn_features_\u001b[0m\u001b[1;33m:\u001b[0m\u001b[1;33m\u001b[0m\u001b[1;33m\u001b[0m\u001b[0m\n\u001b[1;32m--> 413\u001b[1;33m                 raise ValueError(\"Length of feature_names, %d \"\n\u001b[0m\u001b[0;32m    414\u001b[0m                                  \u001b[1;34m\"does not match number of features, %d\"\u001b[0m\u001b[1;33m\u001b[0m\u001b[1;33m\u001b[0m\u001b[0m\n\u001b[0;32m    415\u001b[0m                                  % (len(self.feature_names),\n",
      "\u001b[1;31mValueError\u001b[0m: Length of feature_names, 6 does not match number of features, 12"
     ]
    }
   ],
   "source": [
    "#Visualize the model\n",
    "from IPython.display import SVG\n",
    "from graphviz import Source\n",
    "from IPython.display import display\n",
    "\n",
    "graph = Source(tree.export_graphviz(model, out_file=None, feature_names=X1.columns, class_names=['disease', 'no disease'], filled = True))\n",
    "display(SVG(graph.pipe(format='svg')))\n",
    "\n"
   ]
  },
  {
   "cell_type": "code",
   "execution_count": 54,
   "metadata": {},
   "outputs": [
    {
     "ename": "NameError",
     "evalue": "name 'graph' is not defined",
     "output_type": "error",
     "traceback": [
      "\u001b[1;31m---------------------------------------------------------------------------\u001b[0m",
      "\u001b[1;31mNameError\u001b[0m                                 Traceback (most recent call last)",
      "\u001b[1;32m<ipython-input-54-8333381c699e>\u001b[0m in \u001b[0;36m<module>\u001b[1;34m\u001b[0m\n\u001b[1;32m----> 1\u001b[1;33m \u001b[0mgraph\u001b[0m\u001b[1;33m.\u001b[0m\u001b[0mformat\u001b[0m \u001b[1;33m=\u001b[0m \u001b[1;34m'png'\u001b[0m\u001b[1;33m\u001b[0m\u001b[1;33m\u001b[0m\u001b[0m\n\u001b[0m\u001b[0;32m      2\u001b[0m \u001b[0mgraph\u001b[0m\u001b[1;33m.\u001b[0m\u001b[0mrender\u001b[0m\u001b[1;33m(\u001b[0m\u001b[1;34m'dtree_render'\u001b[0m\u001b[1;33m,\u001b[0m\u001b[0mview\u001b[0m\u001b[1;33m=\u001b[0m\u001b[1;32mTrue\u001b[0m\u001b[1;33m)\u001b[0m\u001b[1;33m\u001b[0m\u001b[1;33m\u001b[0m\u001b[0m\n",
      "\u001b[1;31mNameError\u001b[0m: name 'graph' is not defined"
     ]
    }
   ],
   "source": [
    "graph.format = 'png'\n",
    "graph.render('dtree_render',view=True)"
   ]
  },
  {
   "cell_type": "code",
   "execution_count": 59,
   "metadata": {},
   "outputs": [
    {
     "name": "stdout",
     "output_type": "stream",
     "text": [
      "[[2962 2033]\n",
      " [2048 2752]]\n",
      "58.3358856559469\n"
     ]
    }
   ],
   "source": [
    "from sklearn.metrics import confusion_matrix\n",
    "from sklearn.metrics import accuracy_score\n",
    "\n",
    "y_predict=model.predict(x_test)\n",
    "\n",
    "print(confusion_matrix(y_test, y_predict))\n",
    "print(accuracy_score(y_test, y_predict)*100)"
   ]
  },
  {
   "cell_type": "code",
   "execution_count": 60,
   "metadata": {},
   "outputs": [],
   "source": [
    "from sklearn.svm import SVC\n",
    "model_svm = SVC(C=100)"
   ]
  },
  {
   "cell_type": "code",
   "execution_count": 61,
   "metadata": {},
   "outputs": [],
   "source": [
    "X = df_nostring.drop('CHCKDNY1', axis=1)\n",
    "Y = df_nostring['CHCKDNY1']\n",
    "\n",
    "x_train, x_test, y_train, y_test=train_test_split(X, Y, test_size=0.2)"
   ]
  },
  {
   "cell_type": "code",
   "execution_count": 62,
   "metadata": {},
   "outputs": [
    {
     "data": {
      "text/plain": [
       "SVC(C=100)"
      ]
     },
     "execution_count": 62,
     "metadata": {},
     "output_type": "execute_result"
    }
   ],
   "source": [
    "model_svm.fit(x_train, y_train)"
   ]
  },
  {
   "cell_type": "code",
   "execution_count": 63,
   "metadata": {},
   "outputs": [
    {
     "name": "stdout",
     "output_type": "stream",
     "text": [
      "[[2363  935]\n",
      " [1402 1830]]\n",
      "64.2113323124043\n"
     ]
    },
    {
     "data": {
      "text/plain": [
       "0.6421133231240429"
      ]
     },
     "execution_count": 63,
     "metadata": {},
     "output_type": "execute_result"
    }
   ],
   "source": [
    "y_predict=model_svm.predict(x_test)\n",
    "print(confusion_matrix(y_test, y_predict))\n",
    "print(accuracy_score(y_test, y_predict)*100)\n",
    "model_svm.score(x_test, y_test)"
   ]
  },
  {
   "cell_type": "code",
   "execution_count": 57,
   "metadata": {},
   "outputs": [],
   "source": [
    "#no. of grids in rf\n",
    "n_estimators = [int(x) for x in np.linspace(start=10, stop=80, num=10)]\n",
    "\n",
    "#no. of features to consider at every split\n",
    "max_features=['auto', 'sqrt']\n",
    "\n",
    "#maximum number of levels in tree\n",
    "\n",
    "max_depth = [2,4]\n",
    "\n",
    "#minimum number of samples required to split a node\n",
    "\n",
    "min_samples_split = [2,5]\n",
    "\n",
    "#minimum number of samples required at each leaf node\n",
    "\n",
    "min_samples_leaf = [1, 2]\n",
    "\n",
    "#method of selecting samples for training each tree\n",
    "\n",
    "bootstrap = [True, False]\n",
    "\n"
   ]
  },
  {
   "cell_type": "code",
   "execution_count": 58,
   "metadata": {},
   "outputs": [
    {
     "name": "stdout",
     "output_type": "stream",
     "text": [
      "{'n_estimators': [10, 17, 25, 33, 41, 48, 56, 64, 72, 80], 'max_features': ['auto', 'sqrt'], 'max_depth': [2, 4], 'min_samples_split': [2, 5], 'min_samples_leaf': [1, 2], 'bootstrap': [True, False]}\n"
     ]
    }
   ],
   "source": [
    "#create the random grid\n",
    "\n",
    "param_grid = {'n_estimators': n_estimators,\n",
    "             'max_features': max_features,\n",
    "             'max_depth': max_depth,\n",
    "             'min_samples_split': min_samples_split,\n",
    "             'min_samples_leaf': min_samples_leaf,\n",
    "             'bootstrap': bootstrap}\n",
    "\n",
    "print(param_grid)"
   ]
  },
  {
   "cell_type": "code",
   "execution_count": 66,
   "metadata": {},
   "outputs": [],
   "source": [
    "#Random Forest\n",
    "from sklearn.ensemble import RandomForestClassifier\n",
    "from sklearn.model_selection import GridSearchCV\n",
    "rf_model = RandomForestClassifier()\n",
    "\n",
    "rf_grid = GridSearchCV(estimator = rf_model, param_grid = param_grid, cv=3, verbose=2, n_jobs=4)\n"
   ]
  },
  {
   "cell_type": "code",
   "execution_count": 67,
   "metadata": {},
   "outputs": [
    {
     "name": "stdout",
     "output_type": "stream",
     "text": [
      "Fitting 3 folds for each of 320 candidates, totalling 960 fits\n"
     ]
    },
    {
     "name": "stderr",
     "output_type": "stream",
     "text": [
      "[Parallel(n_jobs=4)]: Using backend LokyBackend with 4 concurrent workers.\n",
      "[Parallel(n_jobs=4)]: Done  33 tasks      | elapsed:    4.2s\n",
      "[Parallel(n_jobs=4)]: Done 154 tasks      | elapsed:   11.2s\n",
      "[Parallel(n_jobs=4)]: Done 357 tasks      | elapsed:   27.0s\n",
      "[Parallel(n_jobs=4)]: Done 640 tasks      | elapsed:   50.6s\n",
      "[Parallel(n_jobs=4)]: Done 960 out of 960 | elapsed:  1.4min finished\n"
     ]
    },
    {
     "data": {
      "text/plain": [
       "GridSearchCV(cv=3, estimator=RandomForestClassifier(), n_jobs=4,\n",
       "             param_grid={'bootstrap': [True, False], 'max_depth': [2, 4],\n",
       "                         'max_features': ['auto', 'sqrt'],\n",
       "                         'min_samples_leaf': [1, 2],\n",
       "                         'min_samples_split': [2, 5],\n",
       "                         'n_estimators': [10, 17, 25, 33, 41, 48, 56, 64, 72,\n",
       "                                          80]},\n",
       "             verbose=2)"
      ]
     },
     "execution_count": 67,
     "metadata": {},
     "output_type": "execute_result"
    }
   ],
   "source": [
    "rf_grid.fit(x_train, y_train)"
   ]
  },
  {
   "cell_type": "code",
   "execution_count": 68,
   "metadata": {},
   "outputs": [
    {
     "data": {
      "text/plain": [
       "{'bootstrap': True,\n",
       " 'max_depth': 4,\n",
       " 'max_features': 'auto',\n",
       " 'min_samples_leaf': 1,\n",
       " 'min_samples_split': 5,\n",
       " 'n_estimators': 72}"
      ]
     },
     "execution_count": 68,
     "metadata": {},
     "output_type": "execute_result"
    }
   ],
   "source": [
    "rf_grid.best_params_"
   ]
  },
  {
   "cell_type": "code",
   "execution_count": 69,
   "metadata": {},
   "outputs": [
    {
     "data": {
      "text/plain": [
       "0.6863705972434916"
      ]
     },
     "execution_count": 69,
     "metadata": {},
     "output_type": "execute_result"
    }
   ],
   "source": [
    "rf_grid.score(x_train, y_train)\n",
    "rf_grid.score(x_test, y_test)"
   ]
  },
  {
   "cell_type": "code",
   "execution_count": 70,
   "metadata": {},
   "outputs": [
    {
     "name": "stdout",
     "output_type": "stream",
     "text": [
      "[[2371  931]\n",
      " [1117 2111]]\n",
      "68.63705972434916\n"
     ]
    }
   ],
   "source": [
    "y_predict=rf_grid.predict(x_test)\n",
    "print(confusion_matrix(y_test, y_predict))\n",
    "print(accuracy_score(y_test, y_predict)*100)"
   ]
  },
  {
   "cell_type": "code",
   "execution_count": 71,
   "metadata": {},
   "outputs": [],
   "source": [
    "#Try different hyperparameters\n",
    "\n",
    "#no. of grids in rf\n",
    "n_estimators = [int(x) for x in np.linspace(start=10, stop=100, num=10)]\n",
    "\n",
    "criterion = ['gini', 'entropy']\n",
    "\n",
    "#no. of features to consider at every split\n",
    "max_features=['auto', 'sqrt']\n",
    "\n",
    "#maximum number of levels in tree\n",
    "\n",
    "max_depth = [3,5,7,9,10]\n",
    "\n",
    "#minimum number of samples required to split a node\n",
    "\n",
    "min_samples_split = [2,4,6]\n",
    "\n",
    "#minimum number of samples required at each leaf node\n",
    "\n",
    "min_samples_leaf = [1, 2, 4]\n",
    "\n",
    "#method of selecting samples for training each tree\n",
    "\n",
    "bootstrap = [True, False]"
   ]
  },
  {
   "cell_type": "code",
   "execution_count": 72,
   "metadata": {},
   "outputs": [
    {
     "name": "stdout",
     "output_type": "stream",
     "text": [
      "{'n_estimators': [10, 20, 30, 40, 50, 60, 70, 80, 90, 100], 'criterion': ['gini', 'entropy'], 'max_features': ['auto', 'sqrt'], 'max_depth': [3, 5, 7, 9, 10], 'min_samples_split': [2, 4, 6], 'min_samples_leaf': [1, 2, 4], 'bootstrap': [True, False]}\n"
     ]
    }
   ],
   "source": [
    "#create the new random grid\n",
    "\n",
    "param_grid = {'n_estimators': n_estimators,\n",
    "              'criterion' : criterion,\n",
    "             'max_features': max_features,\n",
    "             'max_depth': max_depth,\n",
    "             'min_samples_split': min_samples_split,\n",
    "             'min_samples_leaf': min_samples_leaf,\n",
    "             'bootstrap': bootstrap}\n",
    "\n",
    "print(param_grid)"
   ]
  },
  {
   "cell_type": "code",
   "execution_count": 73,
   "metadata": {},
   "outputs": [],
   "source": [
    "rf_grid = GridSearchCV(estimator = rf_model, param_grid = param_grid, cv=3, verbose=2, n_jobs=4)"
   ]
  },
  {
   "cell_type": "code",
   "execution_count": 74,
   "metadata": {},
   "outputs": [
    {
     "name": "stdout",
     "output_type": "stream",
     "text": [
      "Fitting 3 folds for each of 3600 candidates, totalling 10800 fits\n"
     ]
    },
    {
     "name": "stderr",
     "output_type": "stream",
     "text": [
      "[Parallel(n_jobs=4)]: Using backend LokyBackend with 4 concurrent workers.\n",
      "C:\\Users\\sarwa\\Anaconda3\\lib\\site-packages\\joblib\\externals\\loky\\process_executor.py:688: UserWarning: A worker stopped while some jobs were given to the executor. This can be caused by a too short worker timeout or by a memory leak.\n",
      "  warnings.warn(\n",
      "[Parallel(n_jobs=4)]: Done  33 tasks      | elapsed:    4.1s\n",
      "[Parallel(n_jobs=4)]: Done 154 tasks      | elapsed:   14.8s\n",
      "[Parallel(n_jobs=4)]: Done 357 tasks      | elapsed:   37.7s\n",
      "[Parallel(n_jobs=4)]: Done 640 tasks      | elapsed:  1.2min\n",
      "[Parallel(n_jobs=4)]: Done 1005 tasks      | elapsed:  2.1min\n",
      "[Parallel(n_jobs=4)]: Done 1450 tasks      | elapsed:  3.4min\n",
      "[Parallel(n_jobs=4)]: Done 1977 tasks      | elapsed:  5.2min\n",
      "[Parallel(n_jobs=4)]: Done 2584 tasks      | elapsed:  7.5min\n",
      "[Parallel(n_jobs=4)]: Done 3273 tasks      | elapsed:  9.2min\n",
      "[Parallel(n_jobs=4)]: Done 4042 tasks      | elapsed: 11.3min\n",
      "[Parallel(n_jobs=4)]: Done 4893 tasks      | elapsed: 14.5min\n",
      "[Parallel(n_jobs=4)]: Done 5824 tasks      | elapsed: 17.6min\n",
      "[Parallel(n_jobs=4)]: Done 6837 tasks      | elapsed: 20.6min\n",
      "[Parallel(n_jobs=4)]: Done 7930 tasks      | elapsed: 25.4min\n",
      "[Parallel(n_jobs=4)]: Done 9105 tasks      | elapsed: 28.8min\n",
      "[Parallel(n_jobs=4)]: Done 10360 tasks      | elapsed: 34.3min\n",
      "[Parallel(n_jobs=4)]: Done 10800 out of 10800 | elapsed: 36.6min finished\n"
     ]
    },
    {
     "data": {
      "text/plain": [
       "GridSearchCV(cv=3, estimator=RandomForestClassifier(), n_jobs=4,\n",
       "             param_grid={'bootstrap': [True, False],\n",
       "                         'criterion': ['gini', 'entropy'],\n",
       "                         'max_depth': [3, 5, 7, 9, 10],\n",
       "                         'max_features': ['auto', 'sqrt'],\n",
       "                         'min_samples_leaf': [1, 2, 4],\n",
       "                         'min_samples_split': [2, 4, 6],\n",
       "                         'n_estimators': [10, 20, 30, 40, 50, 60, 70, 80, 90,\n",
       "                                          100]},\n",
       "             verbose=2)"
      ]
     },
     "execution_count": 74,
     "metadata": {},
     "output_type": "execute_result"
    }
   ],
   "source": [
    "rf_grid.fit(x_train, y_train)"
   ]
  },
  {
   "cell_type": "code",
   "execution_count": 75,
   "metadata": {},
   "outputs": [
    {
     "data": {
      "text/plain": [
       "{'bootstrap': True,\n",
       " 'criterion': 'entropy',\n",
       " 'max_depth': 9,\n",
       " 'max_features': 'sqrt',\n",
       " 'min_samples_leaf': 1,\n",
       " 'min_samples_split': 4,\n",
       " 'n_estimators': 70}"
      ]
     },
     "execution_count": 75,
     "metadata": {},
     "output_type": "execute_result"
    }
   ],
   "source": [
    "rf_grid.best_params_"
   ]
  },
  {
   "cell_type": "code",
   "execution_count": 76,
   "metadata": {},
   "outputs": [
    {
     "data": {
      "text/plain": [
       "0.6903522205206738"
      ]
     },
     "execution_count": 76,
     "metadata": {},
     "output_type": "execute_result"
    }
   ],
   "source": [
    "rf_grid.score(x_train, y_train)\n",
    "rf_grid.score(x_test, y_test)"
   ]
  },
  {
   "cell_type": "code",
   "execution_count": 77,
   "metadata": {},
   "outputs": [
    {
     "name": "stdout",
     "output_type": "stream",
     "text": [
      "              precision    recall  f1-score   support\n",
      "\n",
      "           1       0.68      0.74      0.71      3302\n",
      "           2       0.71      0.64      0.67      3228\n",
      "\n",
      "    accuracy                           0.69      6530\n",
      "   macro avg       0.69      0.69      0.69      6530\n",
      "weighted avg       0.69      0.69      0.69      6530\n",
      "\n"
     ]
    }
   ],
   "source": [
    "y_pred = rf_grid.predict(x_test)\n",
    "\n",
    "from sklearn.metrics import classification_report\n",
    "print(classification_report(y_test, y_pred))"
   ]
  },
  {
   "cell_type": "code",
   "execution_count": 60,
   "metadata": {},
   "outputs": [],
   "source": [
    "from sklearn.naive_bayes import GaussianNB"
   ]
  },
  {
   "cell_type": "code",
   "execution_count": 61,
   "metadata": {},
   "outputs": [
    {
     "data": {
      "text/plain": [
       "GaussianNB()"
      ]
     },
     "execution_count": 61,
     "metadata": {},
     "output_type": "execute_result"
    }
   ],
   "source": [
    "nb = GaussianNB()\n",
    "nb.fit(x_train, y_train)"
   ]
  },
  {
   "cell_type": "code",
   "execution_count": 62,
   "metadata": {},
   "outputs": [
    {
     "data": {
      "text/plain": [
       "0.6540581929555895"
      ]
     },
     "execution_count": 62,
     "metadata": {},
     "output_type": "execute_result"
    }
   ],
   "source": [
    "nb.score(x_train, y_train)\n",
    "nb.score(x_test, y_test)"
   ]
  },
  {
   "cell_type": "code",
   "execution_count": 64,
   "metadata": {},
   "outputs": [
    {
     "name": "stdout",
     "output_type": "stream",
     "text": [
      "[[1938 1364]\n",
      " [ 895 2333]]\n",
      "65.40581929555896\n"
     ]
    }
   ],
   "source": [
    "y_pred = nb.predict(x_test)\n",
    "print(confusion_matrix(y_test, y_pred))\n",
    "\n",
    "print(accuracy_score(y_test, y_pred)*100)"
   ]
  },
  {
   "cell_type": "code",
   "execution_count": 84,
   "metadata": {},
   "outputs": [],
   "source": [
    "#prediction probabilities\n",
    "r_probs = [0 for _ in range(len(y_test))]\n",
    "rf_probs = rf_grid.predict_proba(x_test)\n",
    "nb_probs = nb.predict_proba(x_test)"
   ]
  },
  {
   "cell_type": "code",
   "execution_count": 85,
   "metadata": {},
   "outputs": [],
   "source": [
    "rf_probs = rf_probs[:, 1]\n",
    "nb_probs = nb_probs[:, 1]"
   ]
  },
  {
   "cell_type": "code",
   "execution_count": 86,
   "metadata": {},
   "outputs": [],
   "source": [
    "from sklearn.metrics import roc_curve, roc_auc_score"
   ]
  },
  {
   "cell_type": "code",
   "execution_count": 87,
   "metadata": {},
   "outputs": [],
   "source": [
    "r_auc = roc_auc_score(y_test, r_probs)\n",
    "rf_auc = roc_auc_score(y_test, rf_probs)\n",
    "nb_auc = roc_auc_score(y_test, nb_probs)"
   ]
  },
  {
   "cell_type": "code",
   "execution_count": 88,
   "metadata": {},
   "outputs": [
    {
     "name": "stdout",
     "output_type": "stream",
     "text": [
      "0.5\n",
      "0.7405908873652458\n",
      "0.7109046218979108\n"
     ]
    }
   ],
   "source": [
    "print(r_auc)\n",
    "print(rf_auc)\n",
    "print(nb_auc)"
   ]
  },
  {
   "cell_type": "code",
   "execution_count": 90,
   "metadata": {},
   "outputs": [],
   "source": [
    "y_pred_rf=rf_grid.predict(x_test)\n",
    "y_pred_nb=nb.predict(x_test)\n",
    "y_pred_svm=model_svm.predict(x_test)"
   ]
  },
  {
   "cell_type": "code",
   "execution_count": 91,
   "metadata": {},
   "outputs": [],
   "source": [
    "from sklearn.metrics import roc_curve, auc\n",
    "\n",
    "\n",
    "rf_fpr, rf_tpr, threshold = roc_curve(y_test, y_pred_rf, pos_label=2)\n",
    "auc_rf = auc(rf_fpr, rf_tpr)\n",
    "\n",
    "svm_fpr, svm_tpr, threshold = roc_curve(y_test, y_pred_svm, pos_label=2)\n",
    "auc_svm = auc(svm_fpr, svm_tpr)\n",
    "\n",
    "nb_fpr, nb_tpr, threshold = roc_curve(y_test, y_pred_nb, pos_label=2)\n",
    "auc_nb = auc(nb_fpr, nb_tpr)"
   ]
  },
  {
   "cell_type": "code",
   "execution_count": 95,
   "metadata": {},
   "outputs": [
    {
     "data": {
      "text/plain": [
       "<matplotlib.legend.Legend at 0x1a7ea5dda00>"
      ]
     },
     "execution_count": 95,
     "metadata": {},
     "output_type": "execute_result"
    },
    {
     "data": {
      "image/png": "[encoded data removed]",
      "text/plain": [
       "<Figure size 500x500 with 1 Axes>"
      ]
     },
     "metadata": {},
     "output_type": "display_data"
    }
   ],
   "source": [
    "#plot roc curve\n",
    "plt.figure(figsize=(5,5), dpi=100)\n",
    "plt.plot(svm_fpr, svm_tpr, linestyle='-', label='SVM (auc=%0.3f)'% auc_svm)\n",
    "plt.plot(rf_fpr, rf_tpr, marker='.', label='RF (auc=%0.3f)'% auc_rf)\n",
    "plt.plot(nb_fpr, nb_tpr, marker='o', label='NB (auc=%0.3f)'% auc_nb)\n",
    "\n",
    "plt.xlabel('false positive rate -->')\n",
    "plt.ylabel('true positive rate -->')\n",
    "plt.legend(loc=2, fontsize=6)\n"
   ]
  },
  {
   "cell_type": "code",
   "execution_count": null,
   "metadata": {},
   "outputs": [],
   "source": []
  }
 ],
 "metadata": {
  "kernelspec": {
   "display_name": "Python 3 (ipykernel)",
   "language": "python",
   "name": "python3"
  },
  "language_info": {
   "codemirror_mode": {
    "name": "ipython",
    "version": 3
   },
   "file_extension": ".py",
   "mimetype": "text/x-python",
   "name": "python",
   "nbconvert_exporter": "python",
   "pygments_lexer": "ipython3",
   "version": "3.8.13"
  }
 },
 "nbformat": 4,
 "nbformat_minor": 4
}
